{
 "cells": [
  {
   "cell_type": "code",
   "execution_count": 5,
   "id": "fd97a936",
   "metadata": {},
   "outputs": [
    {
     "name": "stdout",
     "output_type": "stream",
     "text": [
      "Empty DataFrame\n",
      "Columns: [{\"2021-12-31\":{\"date\":\"2021-12-31\", filing_date:null, currency_symbol:\"EUR\", totalAssets:null, intangibleAssets:null, earningAssets:null, otherCurrentAssets:\"220600000.00\", totalLiab:null, totalStockholderEquity:null, deferredLongTermLiab:null, otherCurrentLiab:\"2081900000.00\", commonStock:\"595200000.00\", retainedEarnings:\"10015700000.00\", otherLiab:\"3472300000.00\", goodWill:null, otherAssets:\"2935000000.00\", cash:null, totalCurrentLiabilities:\"7046300000.00\", netDebt:null, shortTermDebt:null, shortLongTermDebt:null, shortLongTermDebtTotal:null, otherStockholderEquity:\"5176100000.00\", propertyPlantEquipment:\"12248100000.00\", totalCurrentAssets:\"8142900000.00\", longTermInvestments:null, netTangibleAssets:\"7065600000.00\", shortTermInvestments:null, netReceivables:\"2595700000.00\", longTermDebt:null, inventory:\"2211500000.00\", accountsPayable:\"3180400000.00\", totalPermanentEquity:null, noncontrollingInterestInConsolidatedEntity:null, temporaryEquityRedeemableNoncontrollingInterests:null, accumulatedOtherComprehensiveIncome:null, additionalPaidInCapital:null, commonStockTotalEquity:null, preferredStockTotalEquity:null, retainedEarningsTotalEquity:null, treasuryStock:null, accumulatedAmortization:null, nonCurrrentAssetsOther:null, deferredLongTermAssetCharges:null, nonCurrentAssetsTotal:null, capitalLeaseObligations:null, longTermDebtTotal:null, nonCurrentLiabilitiesOther:null, nonCurrentLiabilitiesTotal:null, negativeGoodwill:null, warrants:null, preferredStockRedeemable:null, capitalSurpluse:null, liabilitiesAndStockholdersEquity:null, cashAndShortTermInvestments:null, propertyPlantAndEquipmentGross:null, propertyPlantAndEquipmentNet:null, accumulatedDepreciation:null, netWorkingCapital:null, netInvestedCapital:null, commonStockSharesOutstanding:null}, 2020-12-31:{\"date\":\"2020-12-31\", filing_date:null.1, currency_symbol:\"EUR\".1, totalAssets:\"32335300000.00\", intangibleAssets:\"361200000.00\", earningAssets:null.1, otherCurrentAssets:\"460300000.00\", totalLiab:\"17786900000.00\", totalStockholderEquity:\"13270800000.00\", deferredLongTermLiab:null.1, otherCurrentLiab:\"2012400000.00\", commonStock:\"595200000.00\".1, retainedEarnings:\"8527800000.00\", otherLiab:\"3167300000.00\", goodWill:\"8588800000.00\", otherAssets:\"2222300000.00\", cash:\"2841200000.00\", totalCurrentLiabilities:\"5878100000.00\", netDebt:\"5801900000.00\", shortTermDebt:\"808500000.00\", shortLongTermDebt:\"808500000.00\", shortLongTermDebtTotal:\"8643100000.00\", otherStockholderEquity:\"-2077600000.00\", propertyPlantEquipment:\"11963100000.00\", totalCurrentAssets:\"7312200000.00\", longTermInvestments:null.1, netTangibleAssets:\"4320800000.00\", shortTermInvestments:null.1, netReceivables:\"2007800000.00\", longTermDebt:\"7834600000.00\", inventory:\"1962100000.00\", accountsPayable:\"2611000000.00\", totalPermanentEquity:null.1, noncontrollingInterestInConsolidatedEntity:null.1, temporaryEquityRedeemableNoncontrollingInterests:null.1, accumulatedOtherComprehensiveIncome:\"-14048500000.00\", additionalPaidInCapital:null.1, commonStockTotalEquity:\"595200000.00\", preferredStockTotalEquity:null.1, ...]\n",
      "Index: []\n",
      "\n",
      "[0 rows x 1220 columns]\n"
     ]
    }
   ],
   "source": [
    "import os\n",
    "import urllib\n",
    "import pandas as pd\n",
    "api_key = os.environ['EOD_KEY']\n",
    "\n",
    "symbol='HEI.XETRA'\n",
    "\n",
    "url = 'https://eodhistoricaldata.com/api/fundamentals/'+symbol+'?api_token='+api_key+'&filter=Financials::Balance_Sheet::yearly'\n",
    "response = urllib.request.urlopen(url)\n",
    "data = pd.read_csv(url)\n",
    "print(data)"
   ]
  }
 ],
 "metadata": {
  "kernelspec": {
   "display_name": "Python 3 (ipykernel)",
   "language": "python",
   "name": "python3"
  },
  "language_info": {
   "codemirror_mode": {
    "name": "ipython",
    "version": 3
   },
   "file_extension": ".py",
   "mimetype": "text/x-python",
   "name": "python",
   "nbconvert_exporter": "python",
   "pygments_lexer": "ipython3",
   "version": "3.8.10"
  }
 },
 "nbformat": 4,
 "nbformat_minor": 5
}
